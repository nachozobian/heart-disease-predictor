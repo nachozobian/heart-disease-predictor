{
 "cells": [
  {
   "cell_type": "markdown",
   "id": "004b30bc",
   "metadata": {},
   "source": [
    " # Predicting heart disease using machine learning\n",
    " \n",
    " This jupyter notebook uses python machine learning and data science libraries in order to build a machine learning model that can predict if someone has a heart disease or not based on medical attributes\n",
    " \n",
    " Approach: \n",
    " 1. Problem definition\n",
    " 2. Data\n",
    " 3. Evaluation\n",
    " 4. Features\n",
    " 5. Modelling \n",
    " 6. Experimentation"
   ]
  },
  {
   "cell_type": "markdown",
   "id": "2dd15604",
   "metadata": {},
   "source": [
    "# 1. Problem definition\n",
    "\n",
    "We are doing binary classification, that means we are prediction whether or not someone has a heart disease. Can it be made using a classification machine learning model?"
   ]
  },
  {
   "cell_type": "markdown",
   "id": "39da2627",
   "metadata": {},
   "source": [
    "# 2. Data\n",
    "\n",
    "Data comes from Kaggle, it is a version of the Cleaveland UCI Machine Learning Repository. \n",
    "https://www.kaggle.com/rotnif/heart-disease-uci"
   ]
  },
  {
   "cell_type": "markdown",
   "id": "1ce13113",
   "metadata": {},
   "source": [
    "# 3. Evaluation\n",
    "> We are interested in building a high accuracy project given the problem in which\n",
    "95% or more accuracy will be the target."
   ]
  },
  {
   "cell_type": "markdown",
   "id": "e9e790f4",
   "metadata": {},
   "source": [
    "# 4. Features\n",
    "\n",
    "***Data dictionary***\n",
    "* age in years\n",
    "* sex ( 1 = male; 0 = female)\n",
    "* cp chest pain type\n",
    "* trestbpsrtesting blood pressure (in mmHg on admission to the hospital)\n",
    "* cholserum cholestoral in mg/dl\n",
    "* fbs ( fasting blood sugar > 120 mg/dl) ( 1 = true, 0 = false)\n",
    "* restecgresting electrocardiographic results\n",
    "* thalachmaximum heart rate achieved\n",
    "* exangexercise induced angina (1 = yes, 0 = no)\n",
    "* oldpeakST deppresion induced by excercise relative to rest\n",
    "* slopethe slope of the peak excercise ST segment\n",
    "* canumber of major vessels (0-3) colored by flouroscopy\n",
    "* thal3 = normal; 6 = fixed defect; 7 = reversable defect\n",
    "* target 1 or 0"
   ]
  },
  {
   "cell_type": "code",
   "execution_count": null,
   "id": "26324fe6",
   "metadata": {},
   "outputs": [],
   "source": []
  }
 ],
 "metadata": {
  "kernelspec": {
   "display_name": "Python 3",
   "language": "python",
   "name": "python3"
  },
  "language_info": {
   "codemirror_mode": {
    "name": "ipython",
    "version": 3
   },
   "file_extension": ".py",
   "mimetype": "text/x-python",
   "name": "python",
   "nbconvert_exporter": "python",
   "pygments_lexer": "ipython3",
   "version": "3.8.8"
  }
 },
 "nbformat": 4,
 "nbformat_minor": 5
}
